{
  "cells": [
    {
      "cell_type": "markdown",
      "metadata": {
        "id": "view-in-github",
        "colab_type": "text"
      },
      "source": [
        "<a href=\"https://colab.research.google.com/github/EAFIT-BI/Programming-for-Business-2025-II/blob/main/Contaexpress.ipynb\" target=\"_parent\"><img src=\"https://colab.research.google.com/assets/colab-badge.svg\" alt=\"Open In Colab\"/></a>"
      ]
    },
    {
      "cell_type": "markdown",
      "id": "ce153653-3890-4dd3-8375-403b5db0c38e",
      "metadata": {
        "id": "ce153653-3890-4dd3-8375-403b5db0c38e"
      },
      "source": [
        "# CONTAEXPRESS\n",
        "\n",
        "Contaexpress es un aplicativo de contabilidad que permite almacenar transacciones, mostrar resúmenes y graficar resultados consolidados."
      ]
    },
    {
      "cell_type": "code",
      "execution_count": 7,
      "id": "NLUvRQTyWC7b",
      "metadata": {
        "id": "NLUvRQTyWC7b"
      },
      "outputs": [],
      "source": [
        "#!pip install pyfiglet"
      ]
    },
    {
      "cell_type": "code",
      "execution_count": 8,
      "id": "Tudu9sXyWMnK",
      "metadata": {
        "id": "Tudu9sXyWMnK"
      },
      "outputs": [],
      "source": [
        "# Cargamos la librería pyfiglet\n",
        "import pyfiglet\n",
        "import pandas as pd\n",
        "import os"
      ]
    },
    {
      "cell_type": "code",
      "source": [
        "# Cargamos el archivo de datos\n",
        "datos = pd.read_excel(\"/content/datos.xlsx\")"
      ],
      "metadata": {
        "id": "wOprToC5Wlkc"
      },
      "id": "wOprToC5Wlkc",
      "execution_count": 9,
      "outputs": []
    },
    {
      "cell_type": "code",
      "execution_count": 10,
      "id": "65c00c73-b876-4907-94a1-5f64aab50aee",
      "metadata": {
        "colab": {
          "base_uri": "https://localhost:8080/"
        },
        "id": "65c00c73-b876-4907-94a1-5f64aab50aee",
        "outputId": "11035cd4-42d6-4d35-aa5b-3eefe212cfcf"
      },
      "outputs": [
        {
          "name": "stdout",
          "output_type": "stream",
          "text": [
            "  ____            _      _                   \n",
            " / ___|___  _ __ | |_   / \\   __ _ _ __ ___  \n",
            "| |   / _ \\| '_ \\| __| / _ \\ / _` | '__/ _ \\ \n",
            "| |__| (_) | | | | |_ / ___ \\ (_| | | | (_) |\n",
            " \\____\\___/|_| |_|\\__/_/   \\_\\__, |_|  \\___/ \n",
            "                             |___/           \n",
            "\n",
            "\n",
            "Bienvenido a CONTAGRO 🌱\n",
            "\n",
            " Ingrese su nombre: Lina\n"
          ]
        }
      ],
      "source": [
        "\n",
        "# Guardamos en la variable ascii_banner el mensaje que queremos mostrar\n",
        "ascii_banner = pyfiglet.figlet_format(\"ContAgro\")\n",
        "# Imprimimos la variable ascii_banner\n",
        "print(ascii_banner)\n",
        "\n",
        "# La función print es una función de salida\n",
        "\n",
        "print(\"\")\n",
        "print(\"Bienvenido a CONTAGRO 🌱\")\n",
        "\n",
        "# mientras la función input es una función de entrada\n",
        "nombre = input(\"\\nIngrese su nombre: \")"
      ]
    },
    {
      "cell_type": "code",
      "execution_count": 19,
      "id": "9503fa17-513f-4061-b2bf-fde14f37aa58",
      "metadata": {
        "id": "9503fa17-513f-4061-b2bf-fde14f37aa58"
      },
      "outputs": [],
      "source": [
        "# Construimos la función menú (declaración de la función)\n",
        "def menu(nombre):\n",
        "    # Mostramos el menú con las opciones disponibles\n",
        "    print(f\" Hola {nombre}, seleccione una opción de nuestro menú:\")\n",
        "    print(\"\\n1.Ingresar una nueva transacción\")\n",
        "    print(\"\\n2.Resumir por transacción\")\n",
        "    print(\"\\n3.Visualizar las últimas cinco (5) transacciones\")\n",
        "    print(\"\\n4.Salir\")\n",
        "    # en la variable opción almacenamos la selección del usuario\n",
        "    opcion = int(input(\"\\nDigite una opción: \"))\n",
        "    # retornamos la variable opcion\n",
        "    return opcion\n",
        "\n",
        "# Construimos la función de la nueva transacción\n",
        "def nueva_transaccion(nombre, datos):\n",
        "    # solicita la fecha de la transacción\n",
        "    fecha = input(\"\\nIngrese la fecha de la transacción (DD/MM/YY): \")\n",
        "    # solicita ingresar la descripción de la transacción (concepto)\n",
        "    concepto = input(\"\\nIngrese la descripción de la transacción:\")\n",
        "    # En cuenta se ingresa 1 para ingreso o 2 para egreso\n",
        "    cuenta = input(\"\\nIngrese 1 para ingreso o 2 para egreso:\")\n",
        "    # Si es un ingreso, en complemento se pregunta si es una venta o un aporte\n",
        "    if cuenta == \"1\":\n",
        "        complemento = input(\"\\nIngrese 1 para ventas o 2 para aportes: \")\n",
        "        if complemento == \"1\":\n",
        "            # Genera el nombre completo de la cuenta, ya sea venta o aporte\n",
        "            cuenta = \"Ingreso - Venta\"\n",
        "        elif complemento == \"2\":\n",
        "            cuenta = \"Ingreso - Aporte\"\n",
        "        else:\n",
        "            print(\"\\nLa opción seleccionada no es correcta, ingrese nuevamente la transacción\")\n",
        "            nueva_transaccion(nombre, datos)\n",
        "    # Si es un egreso, pregunta si es operacional o es otro tipo de gasto\n",
        "    elif cuenta == \"2\":\n",
        "        # Genera el nombre completo de la cuenta\n",
        "        complemento = input(\"\\nIngrese 1 para gastos operacionales o 2 para otros gastos: \")\n",
        "        if complemento == \"1\":\n",
        "            cuenta = \"Egreso - Operacional\"\n",
        "        elif complemento == \"2\":\n",
        "            cuenta = \"Egreso - Otros\"\n",
        "        else :\n",
        "            print(\"\\nLa opción seleccionada no es correcta, ingrese nuevamente la transacción\")\n",
        "            nueva_transaccion(nombre, datos)\n",
        "    else:\n",
        "        print(\"\\nLa opción seleccionada no es correcta, ingrese nuevamente la transacción\")\n",
        "        nueva_transaccion(nombre, datos)\n",
        "    # solicita el valor de la transacción\n",
        "    valor = float(input(\"\\nIngrese el valor de la transacción $COP: \"))\n",
        "    # Genera una lista con los datos de la transacción\n",
        "    transaccion = [fecha, concepto, cuenta, valor, nombre]\n",
        "    # ubica la última fila + 1 y agrega la nueva información\n",
        "    datos.loc[len(datos)] = transaccion\n",
        "    # guarda el archivo modificado\n",
        "    datos.to_excel(\"/content/datos.xlsx\", index=False)\n",
        "    input(\"\\nLa transacción fue registrada, presione una tecla para continuar...\")\n",
        "    app(nombre, datos)\n",
        "\n",
        "# Definimos la función ultimas_transacciones para visualizar las últimas 5\n",
        "# transacciones almacenadas en el archivo de datos\n",
        "def ultimas_transacciones(datos):\n",
        "    # Imprimimos las últimas 5 transacciones almacenadas en datos\n",
        "    print(datos.tail(5))\n",
        "\n",
        "# Definimos la función menu_2 para que el usuario elija entre las\n",
        "# siguientes opciones: promedio, total\n",
        "def menu_2():\n",
        "    # Mostramos el menú con las opciones disponibles\n",
        "    print(\"Seleccione una opción de nuestro menú:\")\n",
        "    print(\"\\n1.Promedio\")\n",
        "    print(\"\\n2.Total\")\n",
        "    print(\"\\n3.Regresar al menú anterior\")\n",
        "    # en la variable opción almacenamos la selección del usuario\n",
        "    opcion = int(input(\"\\nDigite una opción: \"))\n",
        "    # retornamos la variable opcion\n",
        "    return opcion\n",
        "\n",
        "def revisar_opcion(opcion, nombre, datos):\n",
        "  # Establecemos las condiciones para cada opción del menú\n",
        "  # Inicializamos la lista de transacciones\n",
        "  flag = True\n",
        "\n",
        "  if opcion == 1:\n",
        "      # En caso de que el usuario elija la opción 1, llama a la función\n",
        "      # nueva_transaccion\n",
        "      os.system(\"cls\")\n",
        "      nueva_transaccion(nombre, datos)\n",
        "  elif opcion == 2:\n",
        "      # En caso de que el usuario elija la opción 2, llama a la función\n",
        "      # menú 2\n",
        "      os.system(\"cls\")\n",
        "      opcion_2 = menu_2()\n",
        "      # Revisamos los condicionales para la opción elegida por el usuario\n",
        "      # en el menu_2 almacenada en opcion_2\n",
        "      if opcion_2 == 1:\n",
        "          # Imprimimos el promedio\n",
        "          print(\"\\nEl valor promedio por tipo de transacción es:\")\n",
        "          print(datos.groupby(\"Ingreso/Egreso\")[\"Valor ($COP)\"].mean())\n",
        "          input(\"\\nPresione una tecla para continuar...\")\n",
        "          app(nombre, datos)\n",
        "      elif opcion_2 == 2:\n",
        "          # Imprimimos la suma\n",
        "          print(\"\\nEl total por tipo de transacción es:\")\n",
        "          print(datos.groupby(\"Ingreso/Egreso\")[\"Valor ($COP)\"].sum())\n",
        "          input(\"\\nPresione una tecla para continuar...\")\n",
        "          app(nombre, datos)\n",
        "      elif opcion_2 == 3:\n",
        "          # En caso de que el usuario elija la opción 3, llama a la función\n",
        "          # menu\n",
        "          os.system(\"cls\")\n",
        "          app(nombre, datos)\n",
        "      else:\n",
        "          print(\"\\nLa opción seleccionada no es correcta\")\n",
        "          print(\"\\nVuelva a intentarlo\")\n",
        "          print(\"\\n\")\n",
        "          app(nombre, datos)\n",
        "  elif opcion == 3:\n",
        "      # En caso de que el usuario elija la opcón 3, llama a  la función\n",
        "      # ultimas_transacciones\n",
        "      os.system(\"cls\")\n",
        "      ultimas_transacciones(datos)\n",
        "      input(\"\\nPresione una tecla para continuar...\")\n",
        "      app(nombre, datos)\n",
        "\n",
        "  elif opcion == 4:\n",
        "      # Salimos de la aplicación\n",
        "      print(\"\\nGracias por usar ContAgro\")\n",
        "      flag = False\n",
        "  else:\n",
        "      print(\"\\nEsa opción no está dentro de nuestro menú\")\n",
        "      print(\"\\nVuelva a intentarlo\")\n",
        "      print(\"\\n\")\n",
        "      app(nombre, datos)\n",
        "  return flag\n",
        "\n",
        "def app(nombre, datos):\n",
        "  os.system(\"cls\")\n",
        "  opcion = menu(nombre)\n",
        "  revisar_opcion(opcion, nombre, datos)"
      ]
    },
    {
      "cell_type": "code",
      "execution_count": 20,
      "id": "9b6593ee-0c55-47e8-80f0-20a97c492b72",
      "metadata": {
        "colab": {
          "base_uri": "https://localhost:8080/"
        },
        "id": "9b6593ee-0c55-47e8-80f0-20a97c492b72",
        "outputId": "b9d9f1ae-62f6-4216-b556-a9131dfa261a"
      },
      "outputs": [
        {
          "output_type": "stream",
          "name": "stdout",
          "text": [
            " Hola Lina, seleccione una opción de nuestro menú:\n",
            "\n",
            "1.Ingresar una nueva transacción\n",
            "\n",
            "2.Resumir por transacción\n",
            "\n",
            "3.Visualizar las últimas cinco (5) transacciones\n",
            "\n",
            "4.Salir\n",
            "\n",
            " Digite una opción: 1\n",
            "\n",
            "Ingrese la fecha de la transacción (DD/MM/YY): 15/11/1982\n",
            "\n",
            "Ingrese la descripción de la transacción:Compras\n",
            "\n",
            "Ingrese 1 para ingreso o 2 para egreso:2\n",
            "\n",
            "Ingrese 1 para gastos operacionales o 2 para otros gastos: 1\n",
            "\n",
            "Ingrese el valor de la transacción $COP: 5000\n",
            "\n",
            "La transacción fue registrada, presione una tecla para continuar...\n",
            " Hola Lina, seleccione una opción de nuestro menú:\n",
            "\n",
            "1.Ingresar una nueva transacción\n",
            "\n",
            "2.Resumir por transacción\n",
            "\n",
            "3.Visualizar las últimas cinco (5) transacciones\n",
            "\n",
            "4.Salir\n",
            "\n",
            " Digite una opción: 3\n",
            "        Fecha               Descripción        Ingreso/Egreso  Valor ($COP)  \\\n",
            "0  01/01/2025  Compra concentrado peces                     1        5000.0   \n",
            "1  15/11/1982                   Cuentas      Ingreso - Aporte        1563.0   \n",
            "2  15/11/1982                   Compras  Egreso - Operacional        5000.0   \n",
            "\n",
            "  Nombre del editor  \n",
            "0              Lina  \n",
            "1              Lina  \n",
            "2              Lina  \n",
            "\n",
            "Presione una tecla para continuar...\n",
            " Hola Lina, seleccione una opción de nuestro menú:\n",
            "\n",
            "1.Ingresar una nueva transacción\n",
            "\n",
            "2.Resumir por transacción\n",
            "\n",
            "3.Visualizar las últimas cinco (5) transacciones\n",
            "\n",
            "4.Salir\n",
            "\n",
            " Digite una opción: 2\n",
            " Seleccione una opción de nuestro menú:\n",
            "\n",
            "1.Promedio\n",
            "\n",
            "2.Total\n",
            "\n",
            "3.Regresar al menú anterior\n",
            "\n",
            "Digite una opción: 1\n",
            "\n",
            "El valor promedio por tipo de transacción es:\n",
            "Ingreso/Egreso\n",
            "1                       5000.0\n",
            "Egreso - Operacional    5000.0\n",
            "Ingreso - Aporte        1563.0\n",
            "Name: Valor ($COP), dtype: float64\n",
            "\n",
            "Presione una tecla para continuar...\n",
            " Hola Lina, seleccione una opción de nuestro menú:\n",
            "\n",
            "1.Ingresar una nueva transacción\n",
            "\n",
            "2.Resumir por transacción\n",
            "\n",
            "3.Visualizar las últimas cinco (5) transacciones\n",
            "\n",
            "4.Salir\n",
            "\n",
            " Digite una opción: 4\n",
            "\n",
            "Gracias por usar ContAgro\n"
          ]
        }
      ],
      "source": [
        "# hacemos uso de la función que acabamos de declarar. La salida\n",
        "# de la función la almacenamos en la variable opcion\n",
        "flag = True\n",
        "while True:\n",
        "  if flag:\n",
        "    flag = app(nombre, datos)\n",
        "  else:\n",
        "    break\n"
      ]
    },
    {
      "cell_type": "code",
      "source": [
        "# Eliminamos el registro elegido por el usuario\n",
        "datos.drop(datos.index[2], inplace=True)"
      ],
      "metadata": {
        "id": "LbkfH8Pcibjj"
      },
      "id": "LbkfH8Pcibjj",
      "execution_count": null,
      "outputs": []
    },
    {
      "cell_type": "code",
      "source": [
        "datos"
      ],
      "metadata": {
        "id": "VUNUbHvGioMt"
      },
      "id": "VUNUbHvGioMt",
      "execution_count": null,
      "outputs": []
    }
  ],
  "metadata": {
    "colab": {
      "provenance": [],
      "include_colab_link": true
    },
    "kernelspec": {
      "display_name": "Python 3 (ipykernel)",
      "language": "python",
      "name": "python3"
    },
    "language_info": {
      "codemirror_mode": {
        "name": "ipython",
        "version": 3
      },
      "file_extension": ".py",
      "mimetype": "text/x-python",
      "name": "python",
      "nbconvert_exporter": "python",
      "pygments_lexer": "ipython3",
      "version": "3.11.7"
    }
  },
  "nbformat": 4,
  "nbformat_minor": 5
}