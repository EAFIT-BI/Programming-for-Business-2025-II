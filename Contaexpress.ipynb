{
  "cells": [
    {
      "cell_type": "markdown",
      "metadata": {
        "id": "view-in-github",
        "colab_type": "text"
      },
      "source": [
        "<a href=\"https://colab.research.google.com/github/EAFIT-BI/Programming-for-Business-2025-II/blob/main/Contaexpress.ipynb\" target=\"_parent\"><img src=\"https://colab.research.google.com/assets/colab-badge.svg\" alt=\"Open In Colab\"/></a>"
      ]
    },
    {
      "cell_type": "markdown",
      "id": "ce153653-3890-4dd3-8375-403b5db0c38e",
      "metadata": {
        "id": "ce153653-3890-4dd3-8375-403b5db0c38e"
      },
      "source": [
        "# CONTAEXPRESS\n",
        "\n",
        "Contaexpress es un aplicativo de contabilidad que permite almacenar transacciones, mostrar resúmenes y graficar resultados consolidados."
      ]
    },
    {
      "cell_type": "code",
      "execution_count": 4,
      "id": "NLUvRQTyWC7b",
      "metadata": {
        "id": "NLUvRQTyWC7b"
      },
      "outputs": [],
      "source": [
        "#!pip install pyfiglet"
      ]
    },
    {
      "cell_type": "code",
      "execution_count": 5,
      "id": "Tudu9sXyWMnK",
      "metadata": {
        "colab": {
          "base_uri": "https://localhost:8080/"
        },
        "id": "Tudu9sXyWMnK",
        "outputId": "13c530aa-f5f0-4b75-8858-0c0ab4db0fc7"
      },
      "outputs": [
        {
          "output_type": "stream",
          "name": "stdout",
          "text": [
            "  ____            _        _____                              \n",
            " / ___|___  _ __ | |_ __ _| ____|_  ___ __  _ __ ___  ___ ___ \n",
            "| |   / _ \\| '_ \\| __/ _` |  _| \\ \\/ / '_ \\| '__/ _ \\/ __/ __|\n",
            "| |__| (_) | | | | || (_| | |___ >  <| |_) | | |  __/\\__ \\__ \\\n",
            " \\____\\___/|_| |_|\\__\\__,_|_____/_/\\_\\ .__/|_|  \\___||___/___/\n",
            "                                     |_|                      \n",
            "\n"
          ]
        }
      ],
      "source": [
        "# Cargamos la librería pyfiglet\n",
        "import pyfiglet\n",
        "\n",
        "# Guardamos en la variable ascii_banner el mensaje que queremos mostrar\n",
        "ascii_banner = pyfiglet.figlet_format(\"ContaExpress\")\n",
        "# Imprimimos la variable ascii_banner\n",
        "print(ascii_banner)"
      ]
    },
    {
      "cell_type": "code",
      "execution_count": 6,
      "id": "44fd466a-db4e-434d-bca7-b716d9981870",
      "metadata": {
        "id": "44fd466a-db4e-434d-bca7-b716d9981870"
      },
      "outputs": [],
      "source": [
        "# Para ver las fuentes disponibles\n",
        "#import pyfiglet\n",
        "#fonts = pyfiglet.Figlet().getFonts()\n",
        "#print(fonts)"
      ]
    },
    {
      "cell_type": "code",
      "execution_count": 7,
      "id": "c1yHblc4Ppyd",
      "metadata": {
        "id": "c1yHblc4Ppyd"
      },
      "outputs": [],
      "source": [
        "# Importamos la librería para gestión de Dataframes (tablas)\n",
        "import pandas as pd"
      ]
    },
    {
      "cell_type": "code",
      "execution_count": 8,
      "id": "65c00c73-b876-4907-94a1-5f64aab50aee",
      "metadata": {
        "colab": {
          "base_uri": "https://localhost:8080/"
        },
        "id": "65c00c73-b876-4907-94a1-5f64aab50aee",
        "outputId": "39954984-a08b-46fa-98ae-e861cc7d64b1"
      },
      "outputs": [
        {
          "name": "stdout",
          "output_type": "stream",
          "text": [
            "\n",
            "Bienvenido a CONTAEXPRESS🔢\n",
            "\n",
            " Ingrese su nombre: Lina\n"
          ]
        }
      ],
      "source": [
        "# La función print es una función de salida\n",
        "\n",
        "print(\"\")\n",
        "print(\"Bienvenido a CONTAEXPRESS🔢\")\n",
        "\n",
        "# mientras la función input es una función de entrada\n",
        "nombre = input(\"\\n Ingrese su nombre: \")"
      ]
    },
    {
      "cell_type": "code",
      "execution_count": 9,
      "id": "9503fa17-513f-4061-b2bf-fde14f37aa58",
      "metadata": {
        "id": "9503fa17-513f-4061-b2bf-fde14f37aa58"
      },
      "outputs": [],
      "source": [
        "# Construimos la función menú (declaración de la función)\n",
        "def menu(nombre):\n",
        "    # Mostramos el menú con las opciones disponibles\n",
        "    print(f\" Hola {nombre}, seleccione una opción de nuestro menú:\")\n",
        "    print(\"\\n1.Ingresar una nueva transacción\")\n",
        "    print(\"\\n2.Resumir por transacción\")\n",
        "    print(\"\\n3.Visualizar las últimas cinco (5) transacciones\")\n",
        "    # en la variable opción almacenamos la selección del usuario\n",
        "    opcion = int(input(\"\\n Digite una opción: \"))\n",
        "    # retornamos la variable opcion\n",
        "    return opcion\n",
        "\n",
        "# Construimos la función de la nueva transacción\n",
        "def nueva_transaccion():\n",
        "    fecha = input(\"\\nIngrese la fecha de la transacción (DD/MM/YY): \")\n",
        "    concepto = input(\"\\nIngrese la descripción de la transacción:\")\n",
        "    cuenta = input(\"\\nIngrese el tipo de cuenta (ingreso o egreso):\")\n",
        "    valor = float(input(\"\\nIngrese el valor de la transacción USD$: \"))\n",
        "    transaccion = [fecha, concepto, cuenta, valor, nombre]\n",
        "    # Abrimos el archivo de datos.xlsx para agregar la transacción\n",
        "    # leemos el archivo con las transacciones\n",
        "    datos = pd.read_excel(\"/content/datos.xlsx\")\n",
        "    # ubica la última fila + 1 y agrega la nueva información\n",
        "    datos.loc[len(datos)] = transaccion\n",
        "    # guarda el archivo modificado\n",
        "    datos.to_excel(\"/content/datos.xlsx\", index=False)\n",
        "\n",
        "# Definimos la función ultimas_transacciones para visualizar las últimas 5\n",
        "# transacciones almacenadas en el archivo de datos\n",
        "def ultimas_transacciones():\n",
        "    # Cargamos los datos del archivo datos.xlsx\n",
        "    datos = pd.read_excel(\"/content/datos.xlsx\")\n",
        "    print(datos.tail(5))\n",
        "\n",
        "# Definimos la función menu_2 para que el usuario elija entre las\n",
        "# siguientes opciones: promedio, total\n",
        "def menu_2():\n",
        "    # Mostramos el menú con las opciones disponibles\n",
        "    print(f\" Seleccione una opción de nuestro menú:\")\n",
        "    print(\"\\n1.Promedio\")\n",
        "    print(\"\\n2.Total\")\n",
        "    # en la variable opción almacenamos la selección del usuario\n",
        "    opcion = int(input(\"\\nDigite una opción: \"))\n",
        "    # retornamos la variable opcion\n",
        "    return opcion"
      ]
    },
    {
      "cell_type": "code",
      "execution_count": 10,
      "id": "9b6593ee-0c55-47e8-80f0-20a97c492b72",
      "metadata": {
        "colab": {
          "base_uri": "https://localhost:8080/"
        },
        "id": "9b6593ee-0c55-47e8-80f0-20a97c492b72",
        "outputId": "6a5bc0f1-4753-481a-c68a-1ba554383d5d"
      },
      "outputs": [
        {
          "name": "stdout",
          "output_type": "stream",
          "text": [
            " Hola Lina, seleccione una opción de nuestro menú:\n",
            "\n",
            "1.Ingresar una nueva transacción\n",
            "\n",
            "2.Resumir por transacción\n",
            "\n",
            "3.Visualizar las últimas cinco (5) transacciones\n",
            "\n",
            " Digite una opción: 2\n"
          ]
        }
      ],
      "source": [
        "# hacemos uso de la función que acabamos de declarar. La salida\n",
        "# de la función la almacenamos en la variable opcion\n",
        "opcion = menu(nombre)"
      ]
    },
    {
      "cell_type": "code",
      "execution_count": 11,
      "id": "12aac789-74bc-4daf-b8c3-5e50ba1f0c24",
      "metadata": {
        "colab": {
          "base_uri": "https://localhost:8080/"
        },
        "id": "12aac789-74bc-4daf-b8c3-5e50ba1f0c24",
        "outputId": "36731829-e126-4f20-cbcf-1d28e2a0a360"
      },
      "outputs": [
        {
          "output_type": "stream",
          "name": "stdout",
          "text": [
            " Seleccione una opción de nuestro menú:\n",
            "\n",
            "1.Promedio\n",
            "\n",
            "2.Total\n",
            "\n",
            "Digite una opción: 1\n",
            "\n",
            "La opción elegida es el promedio\n"
          ]
        }
      ],
      "source": [
        "# Establecemos las condiciones para cada opción del menú\n",
        "# Inicializamos la lista de transacciones\n",
        "\n",
        "if opcion == 1:\n",
        "    # En caso de que el usuario elija la opción 1, llama a la función\n",
        "    # nueva_transaccion\n",
        "    nueva_transaccion()\n",
        "elif opcion == 2:\n",
        "    # En caso de que el usuario elija la opción 2, llama a la función\n",
        "    # menú 2\n",
        "    opcion_2 = menu_2()\n",
        "    # Revisamos los condicionales para la opción elegida por el usuario\n",
        "    # en el menu_2 almacenada en opcion_2\n",
        "    if opcion_2 == 1:\n",
        "        print(\"\\nLa opción elegida es el promedio\")\n",
        "    elif opcion_2 == 2:\n",
        "        print(\"\\nLa opción elegida es el total\")\n",
        "    else:\n",
        "        print(\"\\nLa opción seleccionada no es correcta\")\n",
        "elif opcion == 3:\n",
        "    # En caso de que el usuario elija la opcón 3, llama a  la función\n",
        "    # ultimas_transacciones\n",
        "    ultimas_transacciones()\n",
        "else:\n",
        "    print(\"\\nEsa opción no está dentro de nuestro menú\")"
      ]
    },
    {
      "cell_type": "code",
      "execution_count": 11,
      "id": "bd825cf2-7aee-4b57-aa64-076f07d43189",
      "metadata": {
        "id": "bd825cf2-7aee-4b57-aa64-076f07d43189"
      },
      "outputs": [],
      "source": []
    }
  ],
  "metadata": {
    "colab": {
      "provenance": [],
      "include_colab_link": true
    },
    "kernelspec": {
      "display_name": "Python 3 (ipykernel)",
      "language": "python",
      "name": "python3"
    },
    "language_info": {
      "codemirror_mode": {
        "name": "ipython",
        "version": 3
      },
      "file_extension": ".py",
      "mimetype": "text/x-python",
      "name": "python",
      "nbconvert_exporter": "python",
      "pygments_lexer": "ipython3",
      "version": "3.11.7"
    }
  },
  "nbformat": 4,
  "nbformat_minor": 5
}