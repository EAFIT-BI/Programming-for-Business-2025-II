{
  "cells": [
    {
      "cell_type": "markdown",
      "metadata": {
        "id": "view-in-github",
        "colab_type": "text"
      },
      "source": [
        "<a href=\"https://colab.research.google.com/github/EAFIT-BI/Programming-for-Business-2025-II/blob/main/Contaexpress.ipynb\" target=\"_parent\"><img src=\"https://colab.research.google.com/assets/colab-badge.svg\" alt=\"Open In Colab\"/></a>"
      ]
    },
    {
      "cell_type": "markdown",
      "id": "ce153653-3890-4dd3-8375-403b5db0c38e",
      "metadata": {
        "id": "ce153653-3890-4dd3-8375-403b5db0c38e"
      },
      "source": [
        "# CONTAEXPRESS\n",
        "\n",
        "Contaexpress es un aplicativo de contabilidad que permite almacenar transacciones, mostrar resúmenes y graficar resultados consolidados."
      ]
    },
    {
      "cell_type": "code",
      "source": [
        "#!pip install pyfiglet"
      ],
      "metadata": {
        "id": "NLUvRQTyWC7b",
        "outputId": "ba555f2b-abe5-4b35-edc2-01d0703b3eb9",
        "colab": {
          "base_uri": "https://localhost:8080/"
        }
      },
      "id": "NLUvRQTyWC7b",
      "execution_count": 1,
      "outputs": [
        {
          "output_type": "stream",
          "name": "stdout",
          "text": [
            "Collecting pyfiglet\n",
            "  Downloading pyfiglet-1.0.3-py3-none-any.whl.metadata (7.4 kB)\n",
            "Downloading pyfiglet-1.0.3-py3-none-any.whl (1.1 MB)\n",
            "\u001b[2K   \u001b[90m━━━━━━━━━━━━━━━━━━━━━━━━━━━━━━━━━━━━━━━━\u001b[0m \u001b[32m1.1/1.1 MB\u001b[0m \u001b[31m14.0 MB/s\u001b[0m eta \u001b[36m0:00:00\u001b[0m\n",
            "\u001b[?25hInstalling collected packages: pyfiglet\n",
            "Successfully installed pyfiglet-1.0.3\n"
          ]
        }
      ]
    },
    {
      "cell_type": "code",
      "source": [
        "import pyfiglet\n",
        "\n",
        "ascii_banner = pyfiglet.figlet_format(\"ContaExpress\", font=\"slant\")\n",
        "print(ascii_banner)"
      ],
      "metadata": {
        "id": "Tudu9sXyWMnK",
        "outputId": "58c21d9f-3bd9-4fc5-ef0e-aeb27f64fe70",
        "colab": {
          "base_uri": "https://localhost:8080/"
        }
      },
      "id": "Tudu9sXyWMnK",
      "execution_count": 11,
      "outputs": [
        {
          "output_type": "stream",
          "name": "stdout",
          "text": [
            "   ______            __        ______                              \n",
            "  / ____/___  ____  / /_____ _/ ____/  ______  ________  __________\n",
            " / /   / __ \\/ __ \\/ __/ __ `/ __/ | |/_/ __ \\/ ___/ _ \\/ ___/ ___/\n",
            "/ /___/ /_/ / / / / /_/ /_/ / /____>  </ /_/ / /  /  __(__  |__  ) \n",
            "\\____/\\____/_/ /_/\\__/\\__,_/_____/_/|_/ .___/_/   \\___/____/____/  \n",
            "                                     /_/                           \n",
            "\n"
          ]
        }
      ]
    },
    {
      "cell_type": "code",
      "source": [
        "# Para ver las fuentes disponibles\n",
        "import pyfiglet\n",
        "\n",
        "fonts = pyfiglet.Figlet().getFonts()\n",
        "print(fonts)"
      ],
      "metadata": {
        "id": "TDZ75afOWXCT",
        "outputId": "47874504-026d-4a00-db8f-9e3b76b64741",
        "colab": {
          "base_uri": "https://localhost:8080/"
        }
      },
      "id": "TDZ75afOWXCT",
      "execution_count": 13,
      "outputs": [
        {
          "output_type": "stream",
          "name": "stdout",
          "text": [
            "['platoon_', 'coinstak', 'mig_ally', 'usaflag', 'basic', 'henry_3d', 'tomahawk', 'lazy_jon', 'flyn_sh', 'bubble', 'zig_zag_', 'nfi1____', 'clr8x8', 'arrows', 'relief2', 'charact2', 'future_7', 'platoon2', 'rozzo', 'street_s', 'glenyn', 'tubular', 'sansbi', 'future_8', 'home_pak', 'smshadow', 'ansi_shadow', 'fbr12___', 'cyberlarge', '6x10', 'caus_in_', 'aquaplan', 'poison', 'super_te', 'ticks', 'threepoint', 'amc_3_line', 'italics_', 'eca_____', 'konto', 'jerusalem', 'diamond', 'cosmike', 'c1______', 'hieroglyphs', 'o8', 'rok_____', 'big_money-sw', 'hex', 'thin', 'cygnet', 'xchartri', '64f1____', 'inc_raw_', 'clr4x6', 'hills___', 'hades___', 'fireing_', 'spc_demo', 'future_1', 'timesofl', 'letter_w', 'zone7___', 'unarmed_', 'atc_____', 'clr6x8', 'thorned', 'charact4', 'defleppard', 'nvscript', 'amc_untitled', 'heart_left', 'crawford', 'trek', 'computer', 'xsansb', 'amc_tubes', 'varsity', 'big_money-nw', 'xhelvbi', 'lcd', 'ascii___', 'script', 'georgia11', 'barbwire', 'briteb', 'pepper', 'amc_aaa01', 'raw_recu', 'cricket', 'charact6', 'mini', 'thick', 'nipples', 'impossible', 'benjamin', '5lineoblique', 'alligator', 'radical_', '4x4_offr', 'clr6x10', 'utopiabi', 'rad_____', 'nscript', 'xsansbi', 'mcg_____', 'battle_s', 'crawford2', 'sans', 'odel_lak', 'xbritei', 'deep_str', 'sbookb', 'clr7x10', 'nancyj-fancy', 'moscow', 'clb8x8', 'char3___', 'xsans', 'nancyj-improved', 'tiles', 'standard', 'dwhistled', 'rotated', 'whimsy', 'clr5x6', 'tengwar', 'weird', 'tecrvs__', 'npn_____', 'amc_3_liv1', 'gothic', 'com_sen_', 'fender', 'santa_clara', 'finalass', '1row', 'stencil1', 'char1___', 'lil_devil', 'pacos_pe', 'magic_ma', 'ivrit', 'stealth_', 'roman', 'fun_face', 'characte', 'charact3', 'xsbooki', 'bell', 'rounded', 'stronger_than_all', 'cosmic', 'mshebrew210', 'rally_s2', 'druid___', 'tec1____', 'serifcap', 'panther_', 'crazy', 'broadway_kb', 'utopiab', 'stop', 'chartri', 'xtty', 'bubble_b', 'char4___', '3d-ascii', 'smkeyboard', 'sblood', 'bear', 'stick_letters', 'doom', 'c_consen', 'c2______', 'clr6x6', 'straight', 'cola', 'utopiai', 'js_stick_letters', 'script__', 'sl_script', 'sm______', 'xhelvi', 'asslt__m', 'ebbs_2__', 'mike', 't__of_ap', 'smtengwar', 'assalt_m', 'type_set', 'wow', 'patorjk-hex', 'train', 'fbr2____', 'contrast', 'big_money-ne', 'pawn_ins', 'devilish', 'wavy', 'elite', 'big', 'brite', 'kik_star', 'banner3-D', 'italic', 'beer_pub', 'ansi_regular', 'helvb', 'mad_nurs', 'stampate', 'skateord', 'ok_beer_', 'lockergnome', 'asc_____', 'xsbookb', 'double', 'fbr_stri', 'mirror', 'flipped', 'cards', 'helvi', 'star_strips', 'amc_neko', 'banner', 'b_m__200', 'rad_phan', 'isometric1', 'pyramid', 'rainbow_', 'phonix__', 'skateroc', 'ogre', 'test1', 'binary', 'clb6x10', 'swan', 'mayhem_d', 'a_zooloo', 'courbi', '1943____', 'xcour', 'dcs_bfmo', 'ticksslant', 'stforek', 'outrun__', 'ts1_____', 'letterw3', 'future_5', 'invita', 'bright', 'demo_m__', 'peaks', 'horizontal_left', 'sbook', 'future_4', 'chartr', 'baz__bil', 'clr5x10', 'nancyj', 'yie_ar_k', 'skate_ro', 'sub-zero', 'sketch_s', 'p_s_h_m_', 'fire_font-k', 'fp2_____', 'xsbook', '3x5', 'road_rai', 'calgphy2', 'braced', 'ghoulish', 'ebbs_1__', 'eftitalic', 'small_caps', 'ntgreek', 'rampage_', 'hollywood', 'fbr_tilt', 'decimal', 'yie-ar__', 'space_op', 'bigfig', 'banner4', 'alphabet', 'delta_corps_priest_1', 'js_cursive', 'caligraphy', 'sansi', 'banner3', 'merlin2', 'joust___', 'sweet', 'runyc', 'z-pilot_', 'fraktur', 'shimrod', 'starwars', 'runic', 'ghost_bo', 'js_bracket_letters', 'heroboti', 'rammstein', 'slscript', 'letters', 'goofy', 'sansb', 'dotmatrix', 'twisted', 'modular', 'larry3d', 'notie_ca', 'xhelv', 'slide', 'isometric4', 'subteran', 'courb', 'xsansi', 'tav1____', 'marquee', 'konto_slant', 'fairligh', 'ttyb', 'eftiwall', 'atc_gran', 'rally_sp', 'linux', 'times', 'rci_____', 'slant_relief', 'chunky', 'fourtops', 'demo_1__', 'ghost', 'fire_font-s', 'tombstone', 'stacey', 'double_blocky', 'catwalk', 'xbritebi', 'taxi____', 'small_poison', 'helvbi', 'green_be', 'keyboard', 'future_6', 'rowancap', 'xsbookbi', 'high_noo', 'line_blocks', 'star_war', 'tsalagi', 'mnemonic', 'xttyb', 'blocky', 'maxfour', 'ugalympi', 'modern__', 'cursive', 'xcouri', 'lexible_', 'graffiti', 'spliff', 'tty', 'short', 'horizontal_right', 'bloody', 'clr8x10', 'puzzle', 'helv', 'b1ff', 'cour', 'georgi16', 'fantasy_', 'block', 'flower_power', 'char2___', 'old_banner', 'stencil2', 'js_block_letters', '6x9', 'twopoint', '3d_diagonal', 'knob', 'pebbles', 'nancyj-underlined', 'master_o', 'xtimes', 'cybersmall', 'merlin1', '5x7', 'shadow', 'fbr1____', 'britebi', 'xchartr', 'pawp', 'puffy', 'eftifont', 'univers', 'f15_____', 'katakana', 'fun_faces', 'morse2', 'chiseled', 'fair_mea', 'term', 'clr5x8', 'octal', 'jazmine', 'bigchief', 'r2-d2___', 'epic', 'tanja', 'contessa', 'danc4', 'britei', 'gauntlet', 'etcrvs__', 'eftirobot', 'bubble__', 'avatar', 'p_skateb', 'tsm_____', 'rockbox_', 'calvin_s', 'twin_cob', 'amc_slash', 'double_shorts', 'war_of_w', 'alligator2', 'this', 'eftichess', 'advenger', 'blocks', 'smisome1', 'stellar', 'swamp_land', 'graceful', 'broadway', 'lean', 'rastan__', 'wet_letter', 'gothic__', 'trashman', 'battlesh', 'rot13', 'charset_', 'alpha', 'drpepper', 'doh', 'eftipiti', 'cybermedium', 'relief', '3-d', 'grand_pr', 'house_of', 'cli8x8', 'small_shadow', 'ripper!_', 'new_asci', 'muzzle', 'top_duck', 'isometric2', 'xhelvb', 'digital', 'funky_dr', 'js_capital_curves', 'red_phoenix', 'e__fist_', 'def_leppard', 'small', 'smscript', 'heart_right', 'madrid', 'vortron_', 'greek', 'smslant', '5x8', 'usa_pq__', 'stampatello', 'gradient', 'clr7x8', 'c_ascii_', 'hyper___', 'amc_slider', 'diet_cola', 'ucf_fan_', 'convoy__', 'small_slant', \"patorjk's_cheese\", 'tinker-toy', 'dos_rebel', 'roman___', 'isometric3', 'kban', 'couri', 'bulbhead', 'usa_____', 'eftiwater', 'icl-1900', 'rectangles', 'electronic', 'ti_pan__', 'heavy_me', 'tsn_base', 'slant', 'kgames_i', 'tec_7000', 'morse', 'fuzzy', 'xcourbi', 'dancing_font', 'charact1', '4max', 'sbooki', 'colossal', 'pod_____', 'future_2', 'amc_razor', 'the_edge', 'demo_2__', 'krak_out', 'fp1_____', 'hypa_bal', 'amc_razor2', 'ascii_new_roman', 'acrobatic', 'xbrite', 'jacky', 'charact5', 'bolger', 'amc_thin', 'triad_st', 'soft', 'xbriteb', 'd_dragon', 'faces_of', 'efti_robot', 'speed', 'sbookbi', 'coil_cop', 'xcourb', 'clb8x10', 'utopia', 'big_money-se', 'os2', 'filter', 'future_3', 'rev']\n"
          ]
        }
      ]
    },
    {
      "cell_type": "code",
      "source": [
        "# Importamos la librería para gestión de Dataframes (tablas)\n",
        "import pandas as pd"
      ],
      "metadata": {
        "id": "c1yHblc4Ppyd"
      },
      "id": "c1yHblc4Ppyd",
      "execution_count": 14,
      "outputs": []
    },
    {
      "cell_type": "code",
      "execution_count": 15,
      "id": "65c00c73-b876-4907-94a1-5f64aab50aee",
      "metadata": {
        "colab": {
          "base_uri": "https://localhost:8080/"
        },
        "id": "65c00c73-b876-4907-94a1-5f64aab50aee",
        "outputId": "ffffaf58-189a-485f-c2fd-a5dae7a87546"
      },
      "outputs": [
        {
          "name": "stdout",
          "output_type": "stream",
          "text": [
            "\n",
            "Bienvenido a CONTAEXPRESS🔢\n",
            "\n",
            " Ingrese su nombre: Lina}\n"
          ]
        }
      ],
      "source": [
        "# La función print es una función de salida\n",
        "\n",
        "print(\"\")\n",
        "print(\"Bienvenido a CONTAEXPRESS🔢\")\n",
        "\n",
        "# mientras la función input es una función de entrada\n",
        "nombre = input(\"\\n Ingrese su nombre: \")"
      ]
    },
    {
      "cell_type": "code",
      "execution_count": 17,
      "id": "9b6593ee-0c55-47e8-80f0-20a97c492b72",
      "metadata": {
        "colab": {
          "base_uri": "https://localhost:8080/"
        },
        "id": "9b6593ee-0c55-47e8-80f0-20a97c492b72",
        "outputId": "6332c3bd-575d-4b8c-e0ca-8630e78d4974"
      },
      "outputs": [
        {
          "name": "stdout",
          "output_type": "stream",
          "text": [
            " Hola Lina}, seleccione una opción de nuestro menú:\n",
            "\n",
            "1. Ingresar una nueva transacción\n",
            "\n",
            "2. Resumir por transacción\n",
            "\n",
            "3. Visualizar las últimas cinco (5) transacciones\n",
            "\n",
            " Digite el número de la operación deseada: 2\n"
          ]
        }
      ],
      "source": [
        "\n",
        "# Mostramos el menú con las opciones disponibles\n",
        "print(f\" Hola {nombre}, seleccione una opción de nuestro menú:\")\n",
        "print(\"\\n1. Ingresar una nueva transacción\")\n",
        "print(\"\\n2. Resumir por transacción\")\n",
        "print(\"\\n3. Visualizar las últimas cinco (5) transacciones\")\n",
        "\n",
        "# en la variable opción almacenamos la selección del usuario\n",
        "opcion = int(input(\"\\n Digite el número de la operación deseada: \"))\n"
      ]
    },
    {
      "cell_type": "code",
      "execution_count": 18,
      "id": "12aac789-74bc-4daf-b8c3-5e50ba1f0c24",
      "metadata": {
        "colab": {
          "base_uri": "https://localhost:8080/"
        },
        "id": "12aac789-74bc-4daf-b8c3-5e50ba1f0c24",
        "outputId": "84d45e42-3810-4f05-80f5-b332cb94e8db"
      },
      "outputs": [
        {
          "output_type": "stream",
          "name": "stdout",
          "text": [
            "\n",
            "Ingresó la opción 2\n"
          ]
        }
      ],
      "source": [
        "# Establecemos las condiciones para cada opción del menú\n",
        "# Inicializamos la lista de transacciones\n",
        "\n",
        "if opcion == 1:\n",
        "    print(\"\\nIngresó la opción 1\")\n",
        "    fecha = input(\"\\nIngrese la fecha de la transacción (DD/MM/YY): \")\n",
        "    concepto = input(\"\\nIngrese la descripción de la transacción:\")\n",
        "    cuenta = input(\"\\nIngrese el tipo de cuenta (ingreso o egreso):\")\n",
        "    valor = float(input(\"\\nIngrese el valor de la transacción USD$: \"))\n",
        "    transaccion = [fecha, concepto, cuenta, valor, nombre]\n",
        "    # Abrimos el archivo de datos.xlsx para agregar la transacción\n",
        "    # leemos el archivo con las transacciones\n",
        "    datos = pd.read_excel(\"/content/datos.xlsx\")\n",
        "    # ubica la última fila + 1 y agrega la nueva información\n",
        "    datos.loc[len(datos)] = transaccion\n",
        "    # guarda el archivo modificado\n",
        "    datos.to_excel(\"/content/datos.xlsx\", index=False)\n",
        "\n",
        "    print(f\"\\nUsted ingresó {transacciones}, estos datos son correctos?\")\n",
        "elif opcion == 2:\n",
        "    print(\"\\nIngresó la opción 2\")\n",
        "elif opcion == 3:\n",
        "    # Cargamos los datos del archivo datos.xlsx\n",
        "    datos = pd.read_excel(\"/content/datos.xlsx\")\n",
        "    print(datos.tail(5))\n",
        "else:\n",
        "    print(\"\\nEsa opción no está dentro de nuestro menú\")"
      ]
    },
    {
      "cell_type": "code",
      "execution_count": null,
      "id": "bd825cf2-7aee-4b57-aa64-076f07d43189",
      "metadata": {
        "id": "bd825cf2-7aee-4b57-aa64-076f07d43189"
      },
      "outputs": [],
      "source": []
    }
  ],
  "metadata": {
    "kernelspec": {
      "display_name": "Python 3 (ipykernel)",
      "language": "python",
      "name": "python3"
    },
    "language_info": {
      "codemirror_mode": {
        "name": "ipython",
        "version": 3
      },
      "file_extension": ".py",
      "mimetype": "text/x-python",
      "name": "python",
      "nbconvert_exporter": "python",
      "pygments_lexer": "ipython3",
      "version": "3.11.7"
    },
    "colab": {
      "provenance": [],
      "include_colab_link": true
    }
  },
  "nbformat": 4,
  "nbformat_minor": 5
}