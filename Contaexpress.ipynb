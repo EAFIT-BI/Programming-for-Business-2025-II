{
 "cells": [
  {
   "cell_type": "markdown",
   "id": "9f0c7404",
   "metadata": {
    "colab_type": "text",
    "id": "view-in-github"
   },
   "source": [
    "<a href=\"https://colab.research.google.com/github/EAFIT-BI/Programming-for-Business-2025-II/blob/main/Contaexpress.ipynb\" target=\"_parent\"><img src=\"https://colab.research.google.com/assets/colab-badge.svg\" alt=\"Open In Colab\"/></a>"
   ]
  },
  {
   "cell_type": "markdown",
   "id": "ce153653-3890-4dd3-8375-403b5db0c38e",
   "metadata": {
    "id": "ce153653-3890-4dd3-8375-403b5db0c38e"
   },
   "source": [
    "# CONTAEXPRESS\n",
    "\n",
    "Contaexpress es un aplicativo de contabilidad que permite almacenar transacciones, mostrar resúmenes y graficar resultados consolidados."
   ]
  },
  {
   "cell_type": "code",
   "execution_count": 1,
   "id": "NLUvRQTyWC7b",
   "metadata": {
    "colab": {
     "base_uri": "https://localhost:8080/"
    },
    "id": "NLUvRQTyWC7b",
    "outputId": "ba555f2b-abe5-4b35-edc2-01d0703b3eb9"
   },
   "outputs": [],
   "source": [
    "#!pip install pyfiglet"
   ]
  },
  {
   "cell_type": "code",
   "execution_count": 2,
   "id": "Tudu9sXyWMnK",
   "metadata": {
    "colab": {
     "base_uri": "https://localhost:8080/"
    },
    "id": "Tudu9sXyWMnK",
    "outputId": "58c21d9f-3bd9-4fc5-ef0e-aeb27f64fe70"
   },
   "outputs": [
    {
     "name": "stdout",
     "output_type": "stream",
     "text": [
      "  ____            _        _____                              \n",
      " / ___|___  _ __ | |_ __ _| ____|_  ___ __  _ __ ___  ___ ___ \n",
      "| |   / _ \\| '_ \\| __/ _` |  _| \\ \\/ / '_ \\| '__/ _ \\/ __/ __|\n",
      "| |__| (_) | | | | || (_| | |___ >  <| |_) | | |  __/\\__ \\__ \\\n",
      " \\____\\___/|_| |_|\\__\\__,_|_____/_/\\_\\ .__/|_|  \\___||___/___/\n",
      "                                     |_|                      \n",
      "\n"
     ]
    }
   ],
   "source": [
    "# Cargamos la librería pyfiglet\n",
    "import pyfiglet\n",
    "\n",
    "# Guardamos en la variable ascii_banner el mensaje que queremos mostrar\n",
    "ascii_banner = pyfiglet.figlet_format(\"ContaExpress\")\n",
    "# Imprimimos la variable ascii_banner\n",
    "print(ascii_banner)"
   ]
  },
  {
   "cell_type": "code",
   "execution_count": 3,
   "id": "44fd466a-db4e-434d-bca7-b716d9981870",
   "metadata": {
    "colab": {
     "base_uri": "https://localhost:8080/"
    },
    "id": "TDZ75afOWXCT",
    "outputId": "47874504-026d-4a00-db8f-9e3b76b64741"
   },
   "outputs": [],
   "source": [
    "# Para ver las fuentes disponibles\n",
    "#import pyfiglet\n",
    "#fonts = pyfiglet.Figlet().getFonts()\n",
    "#print(fonts)"
   ]
  },
  {
   "cell_type": "code",
   "execution_count": 4,
   "id": "c1yHblc4Ppyd",
   "metadata": {
    "id": "c1yHblc4Ppyd"
   },
   "outputs": [],
   "source": [
    "# Importamos la librería para gestión de Dataframes (tablas)\n",
    "import pandas as pd"
   ]
  },
  {
   "cell_type": "code",
   "execution_count": 5,
   "id": "65c00c73-b876-4907-94a1-5f64aab50aee",
   "metadata": {
    "colab": {
     "base_uri": "https://localhost:8080/"
    },
    "id": "65c00c73-b876-4907-94a1-5f64aab50aee",
    "outputId": "ffffaf58-189a-485f-c2fd-a5dae7a87546"
   },
   "outputs": [
    {
     "name": "stdout",
     "output_type": "stream",
     "text": [
      "\n",
      "Bienvenido a CONTAEXPRESS🔢\n"
     ]
    },
    {
     "name": "stdin",
     "output_type": "stream",
     "text": [
      "\n",
      " Ingrese su nombre:  Maria\n"
     ]
    }
   ],
   "source": [
    "# La función print es una función de salida\n",
    "\n",
    "print(\"\")\n",
    "print(\"Bienvenido a CONTAEXPRESS🔢\")\n",
    "\n",
    "# mientras la función input es una función de entrada\n",
    "nombre = input(\"\\n Ingrese su nombre: \")"
   ]
  },
  {
   "cell_type": "code",
   "execution_count": 6,
   "id": "9503fa17-513f-4061-b2bf-fde14f37aa58",
   "metadata": {},
   "outputs": [],
   "source": [
    "# Construimos la función menú (declaración de la función)\n",
    "def menu(nombre):\n",
    "    # Mostramos el menú con las opciones disponibles\n",
    "    print(f\" Hola {nombre}, seleccione una opción de nuestro menú:\")\n",
    "    print(\"\\n1.Ingresar una nueva transacción\")\n",
    "    print(\"\\n2.Resumir por transacción\")\n",
    "    print(\"\\n3.Visualizar las últimas cinco (5) transacciones\")   \n",
    "    # en la variable opción almacenamos la selección del usuario\n",
    "    opcion = int(input(\"\\n Digite una opción: \"))\n",
    "    # retornamos la variable opcion\n",
    "    return opcion\n",
    "\n",
    "# Construimos la función de la nueva transacción\n",
    "def nueva_transaccion():\n",
    "    fecha = input(\"\\nIngrese la fecha de la transacción (DD/MM/YY): \")\n",
    "    concepto = input(\"\\nIngrese la descripción de la transacción:\")\n",
    "    cuenta = input(\"\\nIngrese el tipo de cuenta (ingreso o egreso):\")\n",
    "    valor = float(input(\"\\nIngrese el valor de la transacción USD$: \"))\n",
    "    transaccion = [fecha, concepto, cuenta, valor, nombre]\n",
    "    # Abrimos el archivo de datos.xlsx para agregar la transacción\n",
    "    # leemos el archivo con las transacciones\n",
    "    datos = pd.read_excel(\"C:/users/clase/Downloads/datos.xlsx\")\n",
    "    # ubica la última fila + 1 y agrega la nueva información\n",
    "    datos.loc[len(datos)] = transaccion\n",
    "    # guarda el archivo modificado\n",
    "    datos.to_excel(\"C:/users/clase/Downloads/datos.xlsx\", index=False)\n",
    "\n",
    "# Definimos la función ultimas_transacciones para visualizar las últimas 5\n",
    "# transacciones almacenadas en el archivo de datos\n",
    "def ultimas_transacciones():\n",
    "    # Cargamos los datos del archivo datos.xlsx\n",
    "    datos = pd.read_excel(\"C:/users/clase/Downloads/datos.xlsx\")\n",
    "    print(datos.tail(5))  \n",
    "\n",
    "# Definimos la función menu_2 para que el usuario elija entre las \n",
    "# siguientes opciones: promedio, total\n",
    "def menu_2():\n",
    "    # Mostramos el menú con las opciones disponibles\n",
    "    print(f\" Seleccione una opción de nuestro menú:\")\n",
    "    print(\"\\n1.Promedio\")\n",
    "    print(\"\\n2.Total\") \n",
    "    # en la variable opción almacenamos la selección del usuario\n",
    "    opcion = int(input(\"\\nDigite una opción: \"))\n",
    "    # retornamos la variable opcion\n",
    "    return opcion    "
   ]
  },
  {
   "cell_type": "code",
   "execution_count": 7,
   "id": "9b6593ee-0c55-47e8-80f0-20a97c492b72",
   "metadata": {
    "colab": {
     "base_uri": "https://localhost:8080/"
    },
    "id": "9b6593ee-0c55-47e8-80f0-20a97c492b72",
    "outputId": "6332c3bd-575d-4b8c-e0ca-8630e78d4974"
   },
   "outputs": [
    {
     "name": "stdout",
     "output_type": "stream",
     "text": [
      " Hola Maria, seleccione una opción de nuestro menú:\n",
      "\n",
      "1.Ingresar una nueva transacción\n",
      "\n",
      "2.Resumir por transacción\n",
      "\n",
      "3.Visualizar las últimas cinco (5) transacciones\n"
     ]
    },
    {
     "name": "stdin",
     "output_type": "stream",
     "text": [
      "\n",
      " Digite una opción:  2\n"
     ]
    }
   ],
   "source": [
    "# hacemos uso de la función que acabamos de declarar. La salida\n",
    "# de la función la almacenamos en la variable opcion\n",
    "opcion = menu(nombre)"
   ]
  },
  {
   "cell_type": "code",
   "execution_count": 8,
   "id": "12aac789-74bc-4daf-b8c3-5e50ba1f0c24",
   "metadata": {
    "colab": {
     "base_uri": "https://localhost:8080/"
    },
    "id": "12aac789-74bc-4daf-b8c3-5e50ba1f0c24",
    "outputId": "84d45e42-3810-4f05-80f5-b332cb94e8db"
   },
   "outputs": [
    {
     "name": "stdout",
     "output_type": "stream",
     "text": [
      " Seleccione una opción de nuestro menú:\n",
      "\n",
      "1.Promedio\n",
      "\n",
      "2.Total\n"
     ]
    },
    {
     "name": "stdin",
     "output_type": "stream",
     "text": [
      "\n",
      "Digite una opción:  1\n"
     ]
    },
    {
     "name": "stdout",
     "output_type": "stream",
     "text": [
      "\n",
      "La opción elegida es el promedio\n"
     ]
    }
   ],
   "source": [
    "# Establecemos las condiciones para cada opción del menú\n",
    "# Inicializamos la lista de transacciones\n",
    "\n",
    "if opcion == 1:\n",
    "    # En caso de que el usuario elija la opción 1, llama a la función\n",
    "    # nueva_transaccion\n",
    "    nueva_transaccion()\n",
    "elif opcion == 2:\n",
    "    # En caso de que el usuario elija la opción 2, llama a la función\n",
    "    # menú 2\n",
    "    opcion_2 = menu_2()\n",
    "    # Revisamos los condicionales para la opción elegida por el usuario\n",
    "    # en el menu_2 almacenada en opcion_2\n",
    "    if opcion_2 == 1:\n",
    "        print(\"\\nLa opción elegida es el promedio\")\n",
    "    elif opcion_2 == 2:\n",
    "        print(\"\\nLa opción elegida es el total\")\n",
    "    else:\n",
    "        print(\"\\nLa opción seleccionada no es correcta\")\n",
    "elif opcion == 3:\n",
    "    # En caso de que el usuario elija la opcón 3, llama a  la función\n",
    "    # ultimas_transacciones\n",
    "    ultimas_transacciones()\n",
    "else:\n",
    "    print(\"\\nEsa opción no está dentro de nuestro menú\")"
   ]
  },
  {
   "cell_type": "code",
   "execution_count": null,
   "id": "bd825cf2-7aee-4b57-aa64-076f07d43189",
   "metadata": {
    "id": "bd825cf2-7aee-4b57-aa64-076f07d43189"
   },
   "outputs": [],
   "source": []
  }
 ],
 "metadata": {
  "colab": {
   "include_colab_link": true,
   "provenance": []
  },
  "kernelspec": {
   "display_name": "Python 3 (ipykernel)",
   "language": "python",
   "name": "python3"
  },
  "language_info": {
   "codemirror_mode": {
    "name": "ipython",
    "version": 3
   },
   "file_extension": ".py",
   "mimetype": "text/x-python",
   "name": "python",
   "nbconvert_exporter": "python",
   "pygments_lexer": "ipython3",
   "version": "3.11.7"
  }
 },
 "nbformat": 4,
 "nbformat_minor": 5
}
